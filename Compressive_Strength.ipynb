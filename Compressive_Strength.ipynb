{
 "cells": [
  {
   "cell_type": "code",
   "execution_count": 51,
   "metadata": {},
   "outputs": [
    {
     "data": {
      "text/html": [
       "<div>\n",
       "<style scoped>\n",
       "    .dataframe tbody tr th:only-of-type {\n",
       "        vertical-align: middle;\n",
       "    }\n",
       "\n",
       "    .dataframe tbody tr th {\n",
       "        vertical-align: top;\n",
       "    }\n",
       "\n",
       "    .dataframe thead th {\n",
       "        text-align: right;\n",
       "    }\n",
       "</style>\n",
       "<table border=\"1\" class=\"dataframe\">\n",
       "  <thead>\n",
       "    <tr style=\"text-align: right;\">\n",
       "      <th></th>\n",
       "      <th>Cement\n",
       "(kg/m3)</th>\n",
       "      <th>Blast-furnace Slag\n",
       "(kg/m3)</th>\n",
       "      <th>Fly Ash\n",
       "(kg/m3)</th>\n",
       "      <th>Water\n",
       "(kg/m3)</th>\n",
       "      <th>Super-plasticizer\n",
       "(kg/m3)</th>\n",
       "      <th>Coarse Aggregate \n",
       "(kg/m3)</th>\n",
       "      <th>Fine Aggregate\n",
       "(kg/m3)</th>\n",
       "      <th>Age of testing\n",
       "(day)</th>\n",
       "      <th>Concrete compressive strength\n",
       "(MPa)</th>\n",
       "    </tr>\n",
       "  </thead>\n",
       "  <tbody>\n",
       "    <tr>\n",
       "      <th>0</th>\n",
       "      <td>336.0</td>\n",
       "      <td>0.0</td>\n",
       "      <td>0.0</td>\n",
       "      <td>182.0</td>\n",
       "      <td>3.0</td>\n",
       "      <td>986.0</td>\n",
       "      <td>817.0</td>\n",
       "      <td>28</td>\n",
       "      <td>44.86</td>\n",
       "    </tr>\n",
       "    <tr>\n",
       "      <th>1</th>\n",
       "      <td>140.1</td>\n",
       "      <td>4.2</td>\n",
       "      <td>215.9</td>\n",
       "      <td>193.9</td>\n",
       "      <td>4.7</td>\n",
       "      <td>1049.5</td>\n",
       "      <td>710.1</td>\n",
       "      <td>28</td>\n",
       "      <td>26.42</td>\n",
       "    </tr>\n",
       "    <tr>\n",
       "      <th>2</th>\n",
       "      <td>350.0</td>\n",
       "      <td>0.0</td>\n",
       "      <td>0.0</td>\n",
       "      <td>203.0</td>\n",
       "      <td>0.0</td>\n",
       "      <td>974.0</td>\n",
       "      <td>775.0</td>\n",
       "      <td>14</td>\n",
       "      <td>22.53</td>\n",
       "    </tr>\n",
       "    <tr>\n",
       "      <th>3</th>\n",
       "      <td>162.0</td>\n",
       "      <td>148.0</td>\n",
       "      <td>190.0</td>\n",
       "      <td>179.0</td>\n",
       "      <td>19.0</td>\n",
       "      <td>838.0</td>\n",
       "      <td>741.0</td>\n",
       "      <td>28</td>\n",
       "      <td>42.08</td>\n",
       "    </tr>\n",
       "    <tr>\n",
       "      <th>4</th>\n",
       "      <td>225.0</td>\n",
       "      <td>0.0</td>\n",
       "      <td>0.0</td>\n",
       "      <td>181.0</td>\n",
       "      <td>0.0</td>\n",
       "      <td>1113.0</td>\n",
       "      <td>833.0</td>\n",
       "      <td>7</td>\n",
       "      <td>11.17</td>\n",
       "    </tr>\n",
       "  </tbody>\n",
       "</table>\n",
       "</div>"
      ],
      "text/plain": [
       "   Cement\\n(kg/m3)  Blast-furnace Slag\\n(kg/m3)  Fly Ash\\n(kg/m3)  \\\n",
       "0            336.0                          0.0               0.0   \n",
       "1            140.1                          4.2             215.9   \n",
       "2            350.0                          0.0               0.0   \n",
       "3            162.0                        148.0             190.0   \n",
       "4            225.0                          0.0               0.0   \n",
       "\n",
       "   Water\\n(kg/m3)  Super-plasticizer\\n(kg/m3)  Coarse Aggregate \\n(kg/m3)  \\\n",
       "0           182.0                         3.0                       986.0   \n",
       "1           193.9                         4.7                      1049.5   \n",
       "2           203.0                         0.0                       974.0   \n",
       "3           179.0                        19.0                       838.0   \n",
       "4           181.0                         0.0                      1113.0   \n",
       "\n",
       "   Fine Aggregate\\n(kg/m3)  Age of testing\\n(day)  \\\n",
       "0                    817.0                     28   \n",
       "1                    710.1                     28   \n",
       "2                    775.0                     14   \n",
       "3                    741.0                     28   \n",
       "4                    833.0                      7   \n",
       "\n",
       "   Concrete compressive strength\\n(MPa)   \n",
       "0                                  44.86  \n",
       "1                                  26.42  \n",
       "2                                  22.53  \n",
       "3                                  42.08  \n",
       "4                                  11.17  "
      ]
     },
     "execution_count": 51,
     "metadata": {},
     "output_type": "execute_result"
    }
   ],
   "source": [
    "import pandas as pd \n",
    "import numpy as np \n",
    "import matplotlib.pyplot as plt\n",
    "concStrength = pd.read_csv('Compressive Strength.csv')\n",
    "concStrength.head()"
   ]
  },
  {
   "cell_type": "code",
   "execution_count": 2,
   "metadata": {},
   "outputs": [
    {
     "data": {
      "text/html": [
       "<div>\n",
       "<style scoped>\n",
       "    .dataframe tbody tr th:only-of-type {\n",
       "        vertical-align: middle;\n",
       "    }\n",
       "\n",
       "    .dataframe tbody tr th {\n",
       "        vertical-align: top;\n",
       "    }\n",
       "\n",
       "    .dataframe thead th {\n",
       "        text-align: right;\n",
       "    }\n",
       "</style>\n",
       "<table border=\"1\" class=\"dataframe\">\n",
       "  <thead>\n",
       "    <tr style=\"text-align: right;\">\n",
       "      <th></th>\n",
       "      <th>Cement</th>\n",
       "      <th>Blast_Furnace_Slag</th>\n",
       "      <th>Fly_Ash</th>\n",
       "      <th>Water</th>\n",
       "      <th>Super_Plasticizer</th>\n",
       "      <th>Coarse_Aggregate</th>\n",
       "      <th>Fine_Aggregate</th>\n",
       "      <th>Age_of_testing</th>\n",
       "      <th>Concrete_Compresssive_strength</th>\n",
       "    </tr>\n",
       "  </thead>\n",
       "  <tbody>\n",
       "    <tr>\n",
       "      <th>0</th>\n",
       "      <td>336.0</td>\n",
       "      <td>0.0</td>\n",
       "      <td>0.0</td>\n",
       "      <td>182.0</td>\n",
       "      <td>3.0</td>\n",
       "      <td>986.0</td>\n",
       "      <td>817.0</td>\n",
       "      <td>28</td>\n",
       "      <td>44.86</td>\n",
       "    </tr>\n",
       "    <tr>\n",
       "      <th>1</th>\n",
       "      <td>140.1</td>\n",
       "      <td>4.2</td>\n",
       "      <td>215.9</td>\n",
       "      <td>193.9</td>\n",
       "      <td>4.7</td>\n",
       "      <td>1049.5</td>\n",
       "      <td>710.1</td>\n",
       "      <td>28</td>\n",
       "      <td>26.42</td>\n",
       "    </tr>\n",
       "    <tr>\n",
       "      <th>2</th>\n",
       "      <td>350.0</td>\n",
       "      <td>0.0</td>\n",
       "      <td>0.0</td>\n",
       "      <td>203.0</td>\n",
       "      <td>0.0</td>\n",
       "      <td>974.0</td>\n",
       "      <td>775.0</td>\n",
       "      <td>14</td>\n",
       "      <td>22.53</td>\n",
       "    </tr>\n",
       "    <tr>\n",
       "      <th>3</th>\n",
       "      <td>162.0</td>\n",
       "      <td>148.0</td>\n",
       "      <td>190.0</td>\n",
       "      <td>179.0</td>\n",
       "      <td>19.0</td>\n",
       "      <td>838.0</td>\n",
       "      <td>741.0</td>\n",
       "      <td>28</td>\n",
       "      <td>42.08</td>\n",
       "    </tr>\n",
       "    <tr>\n",
       "      <th>4</th>\n",
       "      <td>225.0</td>\n",
       "      <td>0.0</td>\n",
       "      <td>0.0</td>\n",
       "      <td>181.0</td>\n",
       "      <td>0.0</td>\n",
       "      <td>1113.0</td>\n",
       "      <td>833.0</td>\n",
       "      <td>7</td>\n",
       "      <td>11.17</td>\n",
       "    </tr>\n",
       "  </tbody>\n",
       "</table>\n",
       "</div>"
      ],
      "text/plain": [
       "   Cement  Blast_Furnace_Slag  Fly_Ash  Water  Super_Plasticizer  \\\n",
       "0   336.0                 0.0      0.0  182.0                3.0   \n",
       "1   140.1                 4.2    215.9  193.9                4.7   \n",
       "2   350.0                 0.0      0.0  203.0                0.0   \n",
       "3   162.0               148.0    190.0  179.0               19.0   \n",
       "4   225.0                 0.0      0.0  181.0                0.0   \n",
       "\n",
       "   Coarse_Aggregate  Fine_Aggregate  Age_of_testing  \\\n",
       "0             986.0           817.0              28   \n",
       "1            1049.5           710.1              28   \n",
       "2             974.0           775.0              14   \n",
       "3             838.0           741.0              28   \n",
       "4            1113.0           833.0               7   \n",
       "\n",
       "   Concrete_Compresssive_strength  \n",
       "0                           44.86  \n",
       "1                           26.42  \n",
       "2                           22.53  \n",
       "3                           42.08  \n",
       "4                           11.17  "
      ]
     },
     "execution_count": 2,
     "metadata": {},
     "output_type": "execute_result"
    }
   ],
   "source": [
    "concStrength.columns = ['Cement', 'Blast_Furnace_Slag', 'Fly_Ash', \"Water\", 'Super_Plasticizer', \n",
    "                       'Coarse_Aggregate', 'Fine_Aggregate', 'Age_of_testing', 'Concrete_Compresssive_strength']\n",
    "concStrength.head()"
   ]
  },
  {
   "cell_type": "code",
   "execution_count": 3,
   "metadata": {},
   "outputs": [
    {
     "data": {
      "text/plain": [
       "Cement                            0\n",
       "Blast_Furnace_Slag                0\n",
       "Fly_Ash                           0\n",
       "Water                             0\n",
       "Super_Plasticizer                 0\n",
       "Coarse_Aggregate                  0\n",
       "Fine_Aggregate                    0\n",
       "Age_of_testing                    0\n",
       "Concrete_Compresssive_strength    0\n",
       "dtype: int64"
      ]
     },
     "execution_count": 3,
     "metadata": {},
     "output_type": "execute_result"
    }
   ],
   "source": [
    "concStrength.isna().sum()"
   ]
  },
  {
   "cell_type": "code",
   "execution_count": 4,
   "metadata": {},
   "outputs": [
    {
     "data": {
      "text/plain": [
       "count    1133.000000\n",
       "mean       35.838094\n",
       "std        16.100569\n",
       "min         2.330000\n",
       "25%        24.390000\n",
       "50%        34.670000\n",
       "75%        44.870000\n",
       "max        82.600000\n",
       "Name: Concrete_Compresssive_strength, dtype: float64"
      ]
     },
     "execution_count": 4,
     "metadata": {},
     "output_type": "execute_result"
    }
   ],
   "source": [
    "concStrength['Concrete_Compresssive_strength'].describe()"
   ]
  },
  {
   "cell_type": "code",
   "execution_count": 5,
   "metadata": {},
   "outputs": [
    {
     "data": {
      "text/plain": [
       "28     528\n",
       "3      134\n",
       "7      126\n",
       "56      91\n",
       "14      62\n",
       "90      54\n",
       "100     52\n",
       "180     26\n",
       "91      22\n",
       "365     14\n",
       "270     13\n",
       "360      6\n",
       "120      3\n",
       "1        2\n",
       "Name: Age_of_testing, dtype: int64"
      ]
     },
     "execution_count": 5,
     "metadata": {},
     "output_type": "execute_result"
    }
   ],
   "source": [
    "concStrength.Age_of_testing.value_counts()"
   ]
  },
  {
   "cell_type": "code",
   "execution_count": 6,
   "metadata": {},
   "outputs": [],
   "source": [
    "X= concStrength.drop('Concrete_Compresssive_strength', axis = 1)\n",
    "y = concStrength[['Concrete_Compresssive_strength']]"
   ]
  },
  {
   "cell_type": "code",
   "execution_count": 34,
   "metadata": {},
   "outputs": [],
   "source": [
    "from sklearn.model_selection import train_test_split \n",
    "X_train, X_test, y_train, y_test = train_test_split(X,y, test_size = 0.4, random_state = 42)"
   ]
  },
  {
   "cell_type": "code",
   "execution_count": 40,
   "metadata": {},
   "outputs": [],
   "source": [
    "from sklearn.preprocessing import StandardScaler\n",
    "scale = StandardScaler()\n",
    "X_train_scaled = scale.fit_transform(X_train)\n",
    "X_test_scaled  = scale.transform(X_test)\n",
    "X_train_scaled  = pd.DataFrame(X_train_scaled , columns = X_train.columns)\n",
    "X_test_scaled  = pd.DataFrame(X_test_scaled , columns = X_test.columns)"
   ]
  },
  {
   "cell_type": "code",
   "execution_count": 41,
   "metadata": {},
   "outputs": [
    {
     "data": {
      "text/html": [
       "<div>\n",
       "<style scoped>\n",
       "    .dataframe tbody tr th:only-of-type {\n",
       "        vertical-align: middle;\n",
       "    }\n",
       "\n",
       "    .dataframe tbody tr th {\n",
       "        vertical-align: top;\n",
       "    }\n",
       "\n",
       "    .dataframe thead th {\n",
       "        text-align: right;\n",
       "    }\n",
       "</style>\n",
       "<table border=\"1\" class=\"dataframe\">\n",
       "  <thead>\n",
       "    <tr style=\"text-align: right;\">\n",
       "      <th></th>\n",
       "      <th>Cement</th>\n",
       "      <th>Blast_Furnace_Slag</th>\n",
       "      <th>Fly_Ash</th>\n",
       "      <th>Water</th>\n",
       "      <th>Super_Plasticizer</th>\n",
       "      <th>Coarse_Aggregate</th>\n",
       "      <th>Fine_Aggregate</th>\n",
       "      <th>Age_of_testing</th>\n",
       "    </tr>\n",
       "  </thead>\n",
       "  <tbody>\n",
       "    <tr>\n",
       "      <th>count</th>\n",
       "      <td>454.000000</td>\n",
       "      <td>454.000000</td>\n",
       "      <td>454.000000</td>\n",
       "      <td>454.000000</td>\n",
       "      <td>454.000000</td>\n",
       "      <td>454.000000</td>\n",
       "      <td>454.000000</td>\n",
       "      <td>454.000000</td>\n",
       "    </tr>\n",
       "    <tr>\n",
       "      <th>mean</th>\n",
       "      <td>0.085816</td>\n",
       "      <td>0.042113</td>\n",
       "      <td>-0.026408</td>\n",
       "      <td>0.011493</td>\n",
       "      <td>0.042207</td>\n",
       "      <td>-0.031977</td>\n",
       "      <td>-0.109663</td>\n",
       "      <td>-0.009471</td>\n",
       "    </tr>\n",
       "    <tr>\n",
       "      <th>std</th>\n",
       "      <td>1.024746</td>\n",
       "      <td>1.021867</td>\n",
       "      <td>1.023725</td>\n",
       "      <td>0.919030</td>\n",
       "      <td>1.037295</td>\n",
       "      <td>0.970405</td>\n",
       "      <td>0.974543</td>\n",
       "      <td>0.969747</td>\n",
       "    </tr>\n",
       "    <tr>\n",
       "      <th>min</th>\n",
       "      <td>-1.670439</td>\n",
       "      <td>-0.872608</td>\n",
       "      <td>-0.896454</td>\n",
       "      <td>-2.726422</td>\n",
       "      <td>-1.106848</td>\n",
       "      <td>-3.079079</td>\n",
       "      <td>-2.248242</td>\n",
       "      <td>-0.707626</td>\n",
       "    </tr>\n",
       "    <tr>\n",
       "      <th>25%</th>\n",
       "      <td>-0.774574</td>\n",
       "      <td>-0.872608</td>\n",
       "      <td>-0.896454</td>\n",
       "      <td>-0.663702</td>\n",
       "      <td>-1.106848</td>\n",
       "      <td>-0.537320</td>\n",
       "      <td>-0.736060</td>\n",
       "      <td>-0.609546</td>\n",
       "    </tr>\n",
       "    <tr>\n",
       "      <th>50%</th>\n",
       "      <td>0.039227</td>\n",
       "      <td>-0.585161</td>\n",
       "      <td>-0.896454</td>\n",
       "      <td>0.094487</td>\n",
       "      <td>0.094763</td>\n",
       "      <td>-0.006046</td>\n",
       "      <td>-0.013222</td>\n",
       "      <td>-0.266266</td>\n",
       "    </tr>\n",
       "    <tr>\n",
       "      <th>75%</th>\n",
       "      <td>0.742632</td>\n",
       "      <td>0.864049</td>\n",
       "      <td>0.818934</td>\n",
       "      <td>0.451282</td>\n",
       "      <td>0.706516</td>\n",
       "      <td>0.738037</td>\n",
       "      <td>0.408615</td>\n",
       "      <td>0.191442</td>\n",
       "    </tr>\n",
       "    <tr>\n",
       "      <th>max</th>\n",
       "      <td>2.608610</td>\n",
       "      <td>3.224705</td>\n",
       "      <td>2.601460</td>\n",
       "      <td>2.855186</td>\n",
       "      <td>4.533365</td>\n",
       "      <td>2.010409</td>\n",
       "      <td>2.730125</td>\n",
       "      <td>5.242569</td>\n",
       "    </tr>\n",
       "  </tbody>\n",
       "</table>\n",
       "</div>"
      ],
      "text/plain": [
       "           Cement  Blast_Furnace_Slag     Fly_Ash       Water  \\\n",
       "count  454.000000          454.000000  454.000000  454.000000   \n",
       "mean     0.085816            0.042113   -0.026408    0.011493   \n",
       "std      1.024746            1.021867    1.023725    0.919030   \n",
       "min     -1.670439           -0.872608   -0.896454   -2.726422   \n",
       "25%     -0.774574           -0.872608   -0.896454   -0.663702   \n",
       "50%      0.039227           -0.585161   -0.896454    0.094487   \n",
       "75%      0.742632            0.864049    0.818934    0.451282   \n",
       "max      2.608610            3.224705    2.601460    2.855186   \n",
       "\n",
       "       Super_Plasticizer  Coarse_Aggregate  Fine_Aggregate  Age_of_testing  \n",
       "count         454.000000        454.000000      454.000000      454.000000  \n",
       "mean            0.042207         -0.031977       -0.109663       -0.009471  \n",
       "std             1.037295          0.970405        0.974543        0.969747  \n",
       "min            -1.106848         -3.079079       -2.248242       -0.707626  \n",
       "25%            -1.106848         -0.537320       -0.736060       -0.609546  \n",
       "50%             0.094763         -0.006046       -0.013222       -0.266266  \n",
       "75%             0.706516          0.738037        0.408615        0.191442  \n",
       "max             4.533365          2.010409        2.730125        5.242569  "
      ]
     },
     "execution_count": 41,
     "metadata": {},
     "output_type": "execute_result"
    }
   ],
   "source": [
    "X_test_scaled.describe()"
   ]
  },
  {
   "cell_type": "code",
   "execution_count": 42,
   "metadata": {},
   "outputs": [
    {
     "data": {
      "text/plain": [
       "LinearRegression()"
      ]
     },
     "execution_count": 42,
     "metadata": {},
     "output_type": "execute_result"
    }
   ],
   "source": [
    "from sklearn.linear_model import LinearRegression \n",
    "model = LinearRegression()\n",
    "model.fit(X_train_scaled, y_train)"
   ]
  },
  {
   "cell_type": "code",
   "execution_count": 43,
   "metadata": {},
   "outputs": [
    {
     "data": {
      "text/plain": [
       "array([[37.04269738],\n",
       "       [22.26671491],\n",
       "       [36.14544305],\n",
       "       [37.45589777],\n",
       "       [30.59486017],\n",
       "       [20.27832131],\n",
       "       [45.80607789],\n",
       "       [40.36249848],\n",
       "       [38.91283608],\n",
       "       [37.9429131 ]])"
      ]
     },
     "execution_count": 43,
     "metadata": {},
     "output_type": "execute_result"
    }
   ],
   "source": [
    "model.predict(X_test_scaled[:10])"
   ]
  },
  {
   "cell_type": "code",
   "execution_count": 44,
   "metadata": {},
   "outputs": [
    {
     "data": {
      "text/plain": [
       "array([[21.86],\n",
       "       [35.23],\n",
       "       [40.93],\n",
       "       [35.86],\n",
       "       [38.6 ],\n",
       "       [29.23],\n",
       "       [50.66],\n",
       "       [38.19],\n",
       "       [35.66],\n",
       "       [33.05]])"
      ]
     },
     "execution_count": 44,
     "metadata": {},
     "output_type": "execute_result"
    }
   ],
   "source": [
    "np.array(y_test[:10])"
   ]
  },
  {
   "cell_type": "code",
   "execution_count": 45,
   "metadata": {},
   "outputs": [
    {
     "data": {
      "text/plain": [
       "0.6192613019864958"
      ]
     },
     "execution_count": 45,
     "metadata": {},
     "output_type": "execute_result"
    }
   ],
   "source": [
    "model.score(X_test_scaled, y_test)"
   ]
  },
  {
   "cell_type": "code",
   "execution_count": 46,
   "metadata": {},
   "outputs": [
    {
     "data": {
      "text/plain": [
       "0.6075869028874532"
      ]
     },
     "execution_count": 46,
     "metadata": {},
     "output_type": "execute_result"
    }
   ],
   "source": [
    "model.score(X_train_scaled, y_train)"
   ]
  },
  {
   "cell_type": "code",
   "execution_count": 84,
   "metadata": {},
   "outputs": [],
   "source": [
    "#from sklearn.linear_model import Lasso, Ridge\n",
    "#Lasso_reg = Lasso(alpha = 0.01, max_iter = 1000,tol = 0.00001 )\n",
    "#Ridge_reg = Ridge(alpha = 0.01, max_iter = 1000,tol = 0.00001 )\n",
    "#Lasso_reg.fit(X_train_scaled, y_train)\n",
    "#Ridge_reg.fit(X_train_scaled, y_train)"
   ]
  },
  {
   "cell_type": "code",
   "execution_count": 48,
   "metadata": {},
   "outputs": [
    {
     "data": {
      "text/plain": [
       "0.6189867152227524"
      ]
     },
     "execution_count": 48,
     "metadata": {},
     "output_type": "execute_result"
    }
   ],
   "source": [
    "Lasso_reg.score(X_test_scaled, y_test)"
   ]
  },
  {
   "cell_type": "code",
   "execution_count": 16,
   "metadata": {},
   "outputs": [
    {
     "data": {
      "text/plain": [
       "array([[28.07717138]])"
      ]
     },
     "execution_count": 16,
     "metadata": {},
     "output_type": "execute_result"
    }
   ],
   "source": [
    "y_scale = np.array([[336,0,0,182,3,986,817,28]])\n",
    "model.predict(scale.transform(y_scale))"
   ]
  },
  {
   "cell_type": "code",
   "execution_count": 29,
   "metadata": {},
   "outputs": [
    {
     "data": {
      "text/plain": [
       "array([[64.23451823]])"
      ]
     },
     "execution_count": 29,
     "metadata": {},
     "output_type": "execute_result"
    }
   ],
   "source": [
    "y_scale_2 = np.array([[160.1,5.2,315.9,143.9,7.7,2049.5,810.1,28]])\n",
    "model.predict(scale.transform(y_scale_2))"
   ]
  },
  {
   "cell_type": "code",
   "execution_count": 18,
   "metadata": {},
   "outputs": [
    {
     "data": {
      "text/plain": [
       "array([[28.0696359]])"
      ]
     },
     "execution_count": 18,
     "metadata": {},
     "output_type": "execute_result"
    }
   ],
   "source": [
    "model.predict([[0.575, -0.882,-0.878,-0.0453,-0.5895,0.256,0.586,-0.266]])"
   ]
  },
  {
   "cell_type": "code",
   "execution_count": 19,
   "metadata": {},
   "outputs": [
    {
     "data": {
      "text/plain": [
       "array([[13.40873107,  9.30000737,  7.65726238, -2.38881561,  1.40523936,\n",
       "         1.51313592,  2.28071809,  6.66002048]])"
      ]
     },
     "execution_count": 19,
     "metadata": {},
     "output_type": "execute_result"
    }
   ],
   "source": [
    "model.coef_"
   ]
  },
  {
   "cell_type": "code",
   "execution_count": 20,
   "metadata": {},
   "outputs": [
    {
     "data": {
      "text/plain": [
       "array([36.05317551])"
      ]
     },
     "execution_count": 20,
     "metadata": {},
     "output_type": "execute_result"
    }
   ],
   "source": [
    "model.intercept_"
   ]
  },
  {
   "cell_type": "code",
   "execution_count": 21,
   "metadata": {},
   "outputs": [
    {
     "name": "stdout",
     "output_type": "stream",
     "text": [
      "[[37.04269738]\n",
      " [22.26671491]\n",
      " [36.14544305]\n",
      " [37.45589777]\n",
      " [30.59486017]]\n",
      "[[21.86]\n",
      " [35.23]\n",
      " [40.93]\n",
      " [35.86]\n",
      " [38.6 ]]\n"
     ]
    }
   ],
   "source": [
    "y_pred = model.predict(X_test)\n",
    "print(y_pred[:5])\n",
    "print(np.array(y_test[:5]))"
   ]
  },
  {
   "cell_type": "code",
   "execution_count": 22,
   "metadata": {},
   "outputs": [
    {
     "data": {
      "text/plain": [
       "96.88579528847006"
      ]
     },
     "execution_count": 22,
     "metadata": {},
     "output_type": "execute_result"
    }
   ],
   "source": [
    "from sklearn.metrics import mean_squared_error \n",
    "mse =  mean_squared_error(y_test, y_pred)\n",
    "mse"
   ]
  },
  {
   "cell_type": "code",
   "execution_count": 23,
   "metadata": {},
   "outputs": [
    {
     "name": "stdout",
     "output_type": "stream",
     "text": [
      "scores:\n",
      " [0.627775   0.62513767 0.67517291 0.61633497 0.51908919 0.61485093\n",
      " 0.45754952 0.46982251 0.63452903 0.63330923]\n",
      "Standard Deviation:\n",
      " 0.07213175962734932\n",
      "Score Mean:\n",
      " 0.5873570940800539\n",
      "Variance:\n",
      " 0.2685735646472849\n"
     ]
    }
   ],
   "source": [
    "#scores = []\n",
    "#Standard_deviation = []\n",
    "#Average = []\n",
    "from sklearn.model_selection import cross_val_score\n",
    "scores = cross_val_score(LinearRegression(), X_train, y_train, cv =10)\n",
    "print('scores:\\n', scores)\n",
    "print('Standard Deviation:\\n', scores.std())\n",
    "print('Score Mean:\\n' , scores.mean())\n",
    "print('Variance:\\n', np.sqrt(scores.std()))"
   ]
  },
  {
   "cell_type": "code",
   "execution_count": null,
   "metadata": {},
   "outputs": [],
   "source": []
  },
  {
   "cell_type": "code",
   "execution_count": 74,
   "metadata": {},
   "outputs": [
    {
     "data": {
      "text/plain": [
       "[<matplotlib.lines.Line2D at 0x23e2936aa20>]"
      ]
     },
     "execution_count": 74,
     "metadata": {},
     "output_type": "execute_result"
    },
    {
     "data": {
      "image/png": "[encoded data removed]",
      "text/plain": [
       "<Figure size 432x288 with 1 Axes>"
      ]
     },
     "metadata": {
      "needs_background": "light"
     },
     "output_type": "display_data"
    }
   ],
   "source": [
    "x0_test_1 = X_test_scaled.values[:,0]\n",
    "x0_train_1 = X_train_scaled.values[:,0]\n",
    "x0_test = x0_test_1[:,np.newaxis]\n",
    "x0_train = x0_train_1[:,np.newaxis]\n",
    "model.fit(x0_train, y_train)\n",
    "y = model.predict(x0_test)\n",
    "plt.scatter(x0_test, y_test.values, color = 'k')\n",
    "plt.plot(x0_test, y, color = 'b', linewidth = 3)\n"
   ]
  },
  {
   "cell_type": "code",
   "execution_count": 83,
   "metadata": {},
   "outputs": [
    {
     "data": {
      "image/png": "[encoded data removed]",
      "text/plain": [
       "<Figure size 1080x864 with 8 Axes>"
      ]
     },
     "metadata": {
      "needs_background": "light"
     },
     "output_type": "display_data"
    }
   ],
   "source": [
    "plt.figure(figsize = (15,12))\n",
    "for f in range(0,8):\n",
    "    xi_test = X_test_scaled.values[:,f]\n",
    "    xi_train = X_train_scaled.values[:,f]\n",
    "    xi_test = xi_test[:,np.newaxis]\n",
    "    xi_train = xi_train[:,np.newaxis]\n",
    "    model.fit(xi_train, y_train)\n",
    "    y = model.predict(xi_test)\n",
    "    plt.subplot(4,2, f+1)\n",
    "    plt.scatter(xi_test, y_test.values, color = 'k')\n",
    "    plt.plot(xi_test,y, color = 'b', linewidth = 3)"
   ]
  },
  {
   "cell_type": "code",
   "execution_count": 89,
   "metadata": {},
   "outputs": [
    {
     "data": {
      "text/plain": [
       "['concStrength.pkl']"
      ]
     },
     "execution_count": 89,
     "metadata": {},
     "output_type": "execute_result"
    }
   ],
   "source": [
    "from joblib import dump, load\n",
    "dump(model,'concStrength.pkl')"
   ]
  },
  {
   "cell_type": "code",
   "execution_count": 90,
   "metadata": {},
   "outputs": [],
   "source": [
    "models = load('concStrength.pkl')"
   ]
  },
  {
   "cell_type": "code",
   "execution_count": 91,
   "metadata": {},
   "outputs": [],
   "source": [
    "y_model = np.array([[180,0.8,9,8,6.7,8,0.9,28]])"
   ]
  },
  {
   "cell_type": "code",
   "execution_count": null,
   "metadata": {},
   "outputs": [],
   "source": []
  },
  {
   "cell_type": "code",
   "execution_count": null,
   "metadata": {},
   "outputs": [],
   "source": []
  }
 ],
 "metadata": {
  "kernelspec": {
   "display_name": "Python 3",
   "language": "python",
   "name": "python3"
  },
  "language_info": {
   "codemirror_mode": {
    "name": "ipython",
    "version": 3
   },
   "file_extension": ".py",
   "mimetype": "text/x-python",
   "name": "python",
   "nbconvert_exporter": "python",
   "pygments_lexer": "ipython3",
   "version": "3.7.3"
  }
 },
 "nbformat": 4,
 "nbformat_minor": 2
}
